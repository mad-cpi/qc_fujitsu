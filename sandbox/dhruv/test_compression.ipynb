{
 "cells": [
  {
   "cell_type": "code",
   "execution_count": 10,
   "metadata": {
    "ExecuteTime": {
     "end_time": "2023-07-16T14:59:09.508407Z",
     "start_time": "2023-07-16T14:59:09.504430Z"
    }
   },
   "outputs": [],
   "source": [
    "import pandas as pd\n",
    "import lzma\n",
    "from rdkit import Chem, DataStructs\n",
    "from rdkit.Chem import AllChem"
   ]
  },
  {
   "cell_type": "code",
   "execution_count": 11,
   "metadata": {
    "ExecuteTime": {
     "end_time": "2023-07-16T14:59:09.530021Z",
     "start_time": "2023-07-16T14:59:09.510646Z"
    }
   },
   "outputs": [
    {
     "data": {
      "text/plain": "                                              SMILES  \\\n0                   CN(C)C(=O)Oc1cccc([N+](C)(C)C)c1   \n1    O=C(CCCCC1CCSS1)NCCCNc1c2c(nc3cc(Cl)ccc13)CCCC2   \n2  COc1cc2c(cc1OC)C(=O)C(CC1CCN(CCCNc3c4c(nc5cc(C...   \n3  CNC(=O)Oc1cccc(CN(C)CCCOc2ccc3c(=O)c4ccccc4oc3...   \n4         CCC1=CC2Cc3nc4cc(Cl)ccc4c(N)c3[C@@H](C1)C2   \n\n                                               InChI        chem-id  \\\n0  InChI=1S/C12H19N2O2/c1-13(2)12(15)16-11-8-6-7-...    CHEMBL54126   \n1  InChI=1S/C24H32ClN3OS2/c25-17-10-11-20-22(16-1...   CHEMBL194823   \n2  InChI=1S/C33H40ClN3O3/c1-39-30-18-22-17-23(33(...  CHEMBL3216655   \n3  InChI=1S/C26H26N2O5/c1-27-26(30)32-20-8-5-7-18...   CHEMBL340427   \n4  InChI=1S/C18H19ClN2/c1-2-10-5-11-7-12(6-10)17-...   CHEMBL208599   \n\n             chem-name  single-class-label  \n0  NEOSTIGMINE BROMIDE                   1  \n1            LIPOCRINE                   1  \n2                  NaN                   1  \n3       XANTHOSTIGMINE                   1  \n4            HUPRINE X                   1  ",
      "text/html": "<div>\n<style scoped>\n    .dataframe tbody tr th:only-of-type {\n        vertical-align: middle;\n    }\n\n    .dataframe tbody tr th {\n        vertical-align: top;\n    }\n\n    .dataframe thead th {\n        text-align: right;\n    }\n</style>\n<table border=\"1\" class=\"dataframe\">\n  <thead>\n    <tr style=\"text-align: right;\">\n      <th></th>\n      <th>SMILES</th>\n      <th>InChI</th>\n      <th>chem-id</th>\n      <th>chem-name</th>\n      <th>single-class-label</th>\n    </tr>\n  </thead>\n  <tbody>\n    <tr>\n      <th>0</th>\n      <td>CN(C)C(=O)Oc1cccc([N+](C)(C)C)c1</td>\n      <td>InChI=1S/C12H19N2O2/c1-13(2)12(15)16-11-8-6-7-...</td>\n      <td>CHEMBL54126</td>\n      <td>NEOSTIGMINE BROMIDE</td>\n      <td>1</td>\n    </tr>\n    <tr>\n      <th>1</th>\n      <td>O=C(CCCCC1CCSS1)NCCCNc1c2c(nc3cc(Cl)ccc13)CCCC2</td>\n      <td>InChI=1S/C24H32ClN3OS2/c25-17-10-11-20-22(16-1...</td>\n      <td>CHEMBL194823</td>\n      <td>LIPOCRINE</td>\n      <td>1</td>\n    </tr>\n    <tr>\n      <th>2</th>\n      <td>COc1cc2c(cc1OC)C(=O)C(CC1CCN(CCCNc3c4c(nc5cc(C...</td>\n      <td>InChI=1S/C33H40ClN3O3/c1-39-30-18-22-17-23(33(...</td>\n      <td>CHEMBL3216655</td>\n      <td>NaN</td>\n      <td>1</td>\n    </tr>\n    <tr>\n      <th>3</th>\n      <td>CNC(=O)Oc1cccc(CN(C)CCCOc2ccc3c(=O)c4ccccc4oc3...</td>\n      <td>InChI=1S/C26H26N2O5/c1-27-26(30)32-20-8-5-7-18...</td>\n      <td>CHEMBL340427</td>\n      <td>XANTHOSTIGMINE</td>\n      <td>1</td>\n    </tr>\n    <tr>\n      <th>4</th>\n      <td>CCC1=CC2Cc3nc4cc(Cl)ccc4c(N)c3[C@@H](C1)C2</td>\n      <td>InChI=1S/C18H19ClN2/c1-2-10-5-11-7-12(6-10)17-...</td>\n      <td>CHEMBL208599</td>\n      <td>HUPRINE X</td>\n      <td>1</td>\n    </tr>\n  </tbody>\n</table>\n</div>"
     },
     "execution_count": 11,
     "metadata": {},
     "output_type": "execute_result"
    }
   ],
   "source": [
    "# Read the data to a pandas dataframe\n",
    "ach = pd.read_csv(\n",
    "    \"../../data/Acetylcholinesterase_human_IC50_ChEMBLBindingDB_spliton6_binary_1micromolar.csv\"\n",
    ")\n",
    "ach.head()"
   ]
  },
  {
   "cell_type": "code",
   "execution_count": 12,
   "metadata": {
    "ExecuteTime": {
     "end_time": "2023-07-16T14:59:10.162900Z",
     "start_time": "2023-07-16T14:59:09.566701Z"
    }
   },
   "outputs": [
    {
     "name": "stdout",
     "output_type": "stream",
     "text": [
      "Average % of ones: 0.06716784892638036\n",
      "Average count of ones: 68.77987730061349\n"
     ]
    }
   ],
   "source": [
    "fplen = 1024\n",
    "\n",
    "\n",
    "def smiles2ecfp(smi):\n",
    "    fpgen = AllChem.GetMorganGenerator(radius=3, fpSize=fplen)\n",
    "    m1 = Chem.MolFromSmiles(smi)\n",
    "    return fpgen.GetFingerprint(m1)\n",
    "\n",
    "\n",
    "def set_bit_percent(fp):\n",
    "    s = fp.ToBitString()\n",
    "    return s.count(\"1\") / len(s)\n",
    "\n",
    "\n",
    "def bitstring2bytes(s):\n",
    "    return int(s, 2).to_bytes((len(s) + 7) // 8, byteorder=\"big\")\n",
    "\n",
    "\n",
    "ach[\"ecfp\"] = ach.apply(lambda row: smiles2ecfp(row[\"SMILES\"]), axis=1)\n",
    "ach[\"set-bit-percent\"] = ach.apply(lambda row: set_bit_percent(row[\"ecfp\"]), axis=1)\n",
    "print(\"Average % of ones: \" + str(ach[\"set-bit-percent\"].mean()))\n",
    "print(\"Average count of ones: \" + str(ach[\"set-bit-percent\"].mean() * fplen))"
   ]
  },
  {
   "cell_type": "code",
   "execution_count": 13,
   "metadata": {
    "ExecuteTime": {
     "end_time": "2023-07-16T14:59:10.166105Z",
     "start_time": "2023-07-16T14:59:10.163738Z"
    }
   },
   "outputs": [
    {
     "name": "stdout",
     "output_type": "stream",
     "text": [
      "0000000000000001000000001000000001100000000000000000000000000000100000000000000000000000001000000000000000000000000010000000001000000000000100000000000100000000000000000001000000000000000000000000000000000000000000000000000000000000000000010000000000000000000000000000000000000000000000000000000000000000000000000000000000100000000000000000100000000000000010000000000000000000000000000000000000000000001000000000001000000000000000000000000000000000000000000000000000000000000000000000000000000000000000000000001000000000000000000000000000000000000000000001000100100000000001000000000000000000000000000001000000000000000000000000110000000000000000000011000000000000000000000000000000000000000000010000000001000000000000000000001000000000000000010000000010000000000000000000000000000000000000000000000000000001000000000000000000000000000000000000000001000000000000000000000000010000010000000000010000000000000000000000000000000000000000000000000000000000000000000000000000000000000000000000000000000000000000000000000000000000\n",
      "1024\n"
     ]
    }
   ],
   "source": [
    "test = ach[\"ecfp\"][0].ToBitString()\n",
    "print(test)\n",
    "print(len(test))"
   ]
  },
  {
   "cell_type": "code",
   "execution_count": 14,
   "metadata": {
    "ExecuteTime": {
     "end_time": "2023-07-16T14:59:10.171076Z",
     "start_time": "2023-07-16T14:59:10.169197Z"
    }
   },
   "outputs": [],
   "source": [
    "# Creating tree nodes\n",
    "class NodeTree(object):\n",
    "    def __init__(self, left=None, right=None):\n",
    "        self.left = left\n",
    "        self.right = right\n",
    "\n",
    "    def children(self):\n",
    "        return self.left, self.right\n",
    "\n",
    "    def nodes(self):\n",
    "        return self.left, self.right\n",
    "\n",
    "    def __str__(self):\n",
    "        return f\"{self.left}_{self.right}\"\n",
    "\n",
    "\n",
    "# Main function implementing huffman coding\n",
    "def huffman_code_tree(node, left=True, binString=\"\"):\n",
    "    if type(node) is int:\n",
    "        return {node: binString}\n",
    "    (l, r) = node.children()\n",
    "    d = dict()\n",
    "    d.update(huffman_code_tree(l, True, binString + \"0\"))\n",
    "    d.update(huffman_code_tree(r, False, binString + \"1\"))\n",
    "    return d\n",
    "\n",
    "\n",
    "def huffman(by):\n",
    "    freq = {}\n",
    "    for b in by:\n",
    "        if b in freq:\n",
    "            freq[b] += 1\n",
    "        else:\n",
    "            freq[b] = 1\n",
    "\n",
    "    freq = sorted(freq.items(), key=lambda x: x[1], reverse=True)\n",
    "    nodes = freq\n",
    "\n",
    "    while len(nodes) > 1:\n",
    "        (key1, c1) = nodes[-1]\n",
    "        (key2, c2) = nodes[-2]\n",
    "        nodes = nodes[:-2]\n",
    "        node = NodeTree(key1, key2)\n",
    "        nodes.append((node, c1 + c2))\n",
    "\n",
    "        nodes = sorted(nodes, key=lambda x: x[1], reverse=True)\n",
    "\n",
    "    return huffman_code_tree(nodes[0][0])"
   ]
  },
  {
   "cell_type": "code",
   "execution_count": 15,
   "metadata": {
    "ExecuteTime": {
     "end_time": "2023-07-16T14:59:10.174767Z",
     "start_time": "2023-07-16T14:59:10.172436Z"
    }
   },
   "outputs": [
    {
     "name": "stdout",
     "output_type": "stream",
     "text": [
      "240\n",
      "141\n",
      "76\n",
      "34\n"
     ]
    }
   ],
   "source": [
    "# repeatedly huffman compress until the compressed string is less than 39 bits\n",
    "trees = []\n",
    "comp = test\n",
    "while len(comp) > 39:\n",
    "    b = bitstring2bytes(comp)\n",
    "    h = huffman(b)\n",
    "    comp = \"\".join([h[c] for c in b])\n",
    "    trees.append(h)\n",
    "    print(len(comp))"
   ]
  }
 ],
 "metadata": {
  "kernelspec": {
   "display_name": "Python 3",
   "language": "python",
   "name": "python3"
  },
  "language_info": {
   "codemirror_mode": {
    "name": "ipython",
    "version": 3
   },
   "file_extension": ".py",
   "mimetype": "text/x-python",
   "name": "python",
   "nbconvert_exporter": "python",
   "pygments_lexer": "ipython3",
   "version": "3.11.4"
  },
  "orig_nbformat": 4
 },
 "nbformat": 4,
 "nbformat_minor": 2
}
