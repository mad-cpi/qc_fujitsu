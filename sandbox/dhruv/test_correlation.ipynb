{
 "cells": [
  {
   "cell_type": "code",
   "execution_count": 37,
   "metadata": {
    "ExecuteTime": {
     "end_time": "2023-09-25T15:29:38.418963Z",
     "start_time": "2023-09-25T15:29:38.415078Z"
    }
   },
   "outputs": [],
   "source": [
    "import numpy as np\n",
    "import pandas as pd\n",
    "from rdkit import Chem\n",
    "from rdkit.Chem import AllChem\n",
    "import matplotlib.pyplot as plt"
   ]
  },
  {
   "cell_type": "code",
   "execution_count": 38,
   "metadata": {
    "collapsed": false,
    "ExecuteTime": {
     "end_time": "2023-09-25T15:29:38.455528Z",
     "start_time": "2023-09-25T15:29:38.421690Z"
    }
   },
   "outputs": [
    {
     "data": {
      "text/plain": "                                              SMILES  binary  \\\n0  COc1ccc(N=c2[nH]cnc3ccc(NC(=S)Nc4cccc5ccccc45)...       1   \n1  Clc1ccc2c(=NCCCN=c3[nH]c(N4CCCCC4)nc(=NC4CCCCC...       0   \n2  CC(C)N=c1cc(-c2c[nH]nc2C2CCN(C(=O)C3CCC3)C2)cc...       1   \n3     COc1cc2c(c(O)c1OC)OCC(c1cc(O)c(OC)c(OC)c1O)C2O       0   \n4        CCCN(CCC)c1ccc2nc3ccc(N(CCC)CCC)cc3[o+]c2c1       1   \n\n                                  Encoded_Bit_Vector  \n0  [0.0, 0.0, 0.0, 1.0, 0.0, 0.0, 0.0, 1.0, 1.0, ...  \n1  [0.0, 0.0, 0.0, 0.0, 0.0, 0.0, 0.0, 0.0, 1.0, ...  \n2  [0.0, 0.0, 0.0, 0.0, 0.0, 0.0, 0.0, 0.0, 0.0, ...  \n3  [0.0, 0.0, 1.0, 0.0, 0.0, 0.0, 0.0, 0.0, 1.0, ...  \n4  [0.0, 0.0, 1.0, 0.0, 0.0, 0.0, 1.0, 0.0, 1.0, ...  ",
      "text/html": "<div>\n<style scoped>\n    .dataframe tbody tr th:only-of-type {\n        vertical-align: middle;\n    }\n\n    .dataframe tbody tr th {\n        vertical-align: top;\n    }\n\n    .dataframe thead th {\n        text-align: right;\n    }\n</style>\n<table border=\"1\" class=\"dataframe\">\n  <thead>\n    <tr style=\"text-align: right;\">\n      <th></th>\n      <th>SMILES</th>\n      <th>binary</th>\n      <th>Encoded_Bit_Vector</th>\n    </tr>\n  </thead>\n  <tbody>\n    <tr>\n      <th>0</th>\n      <td>COc1ccc(N=c2[nH]cnc3ccc(NC(=S)Nc4cccc5ccccc45)...</td>\n      <td>1</td>\n      <td>[0.0, 0.0, 0.0, 1.0, 0.0, 0.0, 0.0, 1.0, 1.0, ...</td>\n    </tr>\n    <tr>\n      <th>1</th>\n      <td>Clc1ccc2c(=NCCCN=c3[nH]c(N4CCCCC4)nc(=NC4CCCCC...</td>\n      <td>0</td>\n      <td>[0.0, 0.0, 0.0, 0.0, 0.0, 0.0, 0.0, 0.0, 1.0, ...</td>\n    </tr>\n    <tr>\n      <th>2</th>\n      <td>CC(C)N=c1cc(-c2c[nH]nc2C2CCN(C(=O)C3CCC3)C2)cc...</td>\n      <td>1</td>\n      <td>[0.0, 0.0, 0.0, 0.0, 0.0, 0.0, 0.0, 0.0, 0.0, ...</td>\n    </tr>\n    <tr>\n      <th>3</th>\n      <td>COc1cc2c(c(O)c1OC)OCC(c1cc(O)c(OC)c(OC)c1O)C2O</td>\n      <td>0</td>\n      <td>[0.0, 0.0, 1.0, 0.0, 0.0, 0.0, 0.0, 0.0, 1.0, ...</td>\n    </tr>\n    <tr>\n      <th>4</th>\n      <td>CCCN(CCC)c1ccc2nc3ccc(N(CCC)CCC)cc3[o+]c2c1</td>\n      <td>1</td>\n      <td>[0.0, 0.0, 1.0, 0.0, 0.0, 0.0, 1.0, 0.0, 1.0, ...</td>\n    </tr>\n  </tbody>\n</table>\n</div>"
     },
     "execution_count": 38,
     "metadata": {},
     "output_type": "execute_result"
    }
   ],
   "source": [
    "df = pd.read_csv(\n",
    "    \"../../data/plasmodium_malaria_subsampled_encoded_28_train.csv\",\n",
    "    converters={\"Encoded_Bit_Vector\": lambda x: np.fromstring(x[1:-1], sep=\", \")}\n",
    ")\n",
    "df.head()"
   ]
  },
  {
   "cell_type": "code",
   "execution_count": 39,
   "metadata": {
    "collapsed": false,
    "ExecuteTime": {
     "end_time": "2023-09-25T15:29:38.458907Z",
     "start_time": "2023-09-25T15:29:38.456061Z"
    }
   },
   "outputs": [],
   "source": [
    "# fplen = 1024\n",
    "#\n",
    "#\n",
    "# def smiles2ecfp(smi):\n",
    "#     fpgen = AllChem.GetMorganGenerator(radius=3, fpSize=fplen)\n",
    "#     m1 = Chem.MolFromSmiles(smi)\n",
    "#     return fpgen.GetFingerprintAsNumPy(m1)\n",
    "#\n",
    "#\n",
    "# df[\"ecfp\"] = df.apply(lambda row: smiles2ecfp(row[\"SMILES\"]), axis=1)"
   ]
  },
  {
   "cell_type": "markdown",
   "metadata": {},
   "source": [
    "### Identifying highly correlated bits"
   ]
  },
  {
   "cell_type": "code",
   "execution_count": 40,
   "outputs": [
    {
     "name": "stdout",
     "output_type": "stream",
     "text": [
      "   Bit_0  Bit_1  Bit_2  Bit_3  Bit_4  Bit_5  Bit_6  Bit_7  Bit_8  Bit_9  ...  \\\n",
      "0    0.0    0.0    0.0    1.0    0.0    0.0    0.0    1.0    1.0    0.0  ...   \n",
      "1    0.0    0.0    0.0    0.0    0.0    0.0    0.0    0.0    1.0    0.0  ...   \n",
      "2    0.0    0.0    0.0    0.0    0.0    0.0    0.0    0.0    0.0    0.0  ...   \n",
      "3    0.0    0.0    1.0    0.0    0.0    0.0    0.0    0.0    1.0    0.0  ...   \n",
      "4    0.0    0.0    1.0    0.0    0.0    0.0    1.0    0.0    1.0    1.0  ...   \n",
      "\n",
      "   Bit_18  Bit_19  Bit_20  Bit_21  Bit_22  Bit_23  Bit_24  Bit_25  Bit_26  \\\n",
      "0     0.0     1.0     0.0     0.0     0.0     0.0     0.0     0.0     0.0   \n",
      "1     0.0     1.0     0.0     0.0     0.0     0.0     1.0     0.0     0.0   \n",
      "2     0.0     1.0     0.0     0.0     0.0     0.0     1.0     1.0     1.0   \n",
      "3     0.0     0.0     0.0     0.0     0.0     0.0     0.0     0.0     1.0   \n",
      "4     0.0     0.0     0.0     0.0     0.0     0.0     0.0     0.0     0.0   \n",
      "\n",
      "   Bit_27  \n",
      "0     1.0  \n",
      "1     0.0  \n",
      "2     0.0  \n",
      "3     1.0  \n",
      "4     0.0  \n",
      "\n",
      "[5 rows x 28 columns]\n"
     ]
    }
   ],
   "source": [
    "cols = [f'Bit_{n}' for n in range(len(df['Encoded_Bit_Vector'][0]))]\n",
    "data = dict(zip(range(len(df['Encoded_Bit_Vector'])), df['Encoded_Bit_Vector']))\n",
    "fps = pd.DataFrame.from_dict(data, orient='index', columns=cols)\n",
    "print(fps.head())"
   ],
   "metadata": {
    "collapsed": false,
    "ExecuteTime": {
     "end_time": "2023-09-25T15:29:38.526583Z",
     "start_time": "2023-09-25T15:29:38.459640Z"
    }
   }
  },
  {
   "cell_type": "code",
   "execution_count": 49,
   "metadata": {
    "ExecuteTime": {
     "end_time": "2023-09-25T15:32:11.819065Z",
     "start_time": "2023-09-25T15:32:11.083649Z"
    }
   },
   "outputs": [
    {
     "name": "stdout",
     "output_type": "stream",
     "text": [
      "[('Bit_12', 'Bit_25')]\n",
      "0.27999999999999936\n"
     ]
    }
   ],
   "source": [
    "threshold = 1\n",
    "high_corr = []\n",
    "while len(high_corr) == 0:\n",
    "    corr = fps.corr(numeric_only=True).abs()\n",
    "    high_corr = [\n",
    "        (corr.index[x], corr.columns[y])\n",
    "        for x, y in zip(*(np.where(corr > threshold)))\n",
    "        if x != y and x < y\n",
    "    ]\n",
    "    threshold -= 0.01\n",
    "    # TODO: larger groups & heatmap\n",
    "print(high_corr)\n",
    "print(threshold)"
   ]
  },
  {
   "cell_type": "code",
   "execution_count": 41,
   "outputs": [],
   "source": [],
   "metadata": {
    "collapsed": false,
    "ExecuteTime": {
     "end_time": "2023-09-25T15:29:38.527407Z",
     "start_time": "2023-09-25T15:29:38.509250Z"
    }
   }
  }
 ],
 "metadata": {
  "kernelspec": {
   "display_name": "Python 3 (ipykernel)",
   "language": "python",
   "name": "python3"
  },
  "language_info": {
   "codemirror_mode": {
    "name": "ipython",
    "version": 3
   },
   "file_extension": ".py",
   "mimetype": "text/x-python",
   "name": "python",
   "nbconvert_exporter": "python",
   "pygments_lexer": "ipython3",
   "version": "3.11.4"
  },
  "orig_nbformat": 4
 },
 "nbformat": 4,
 "nbformat_minor": 2
}
