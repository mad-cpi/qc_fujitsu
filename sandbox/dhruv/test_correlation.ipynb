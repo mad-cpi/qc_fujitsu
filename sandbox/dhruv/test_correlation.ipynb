{
 "cells": [
  {
   "cell_type": "code",
   "execution_count": 10,
   "metadata": {
    "ExecuteTime": {
     "end_time": "2023-07-17T17:42:32.434329Z",
     "start_time": "2023-07-17T17:42:32.419366Z"
    }
   },
   "outputs": [],
   "source": [
    "import numpy as np\n",
    "import pandas as pd\n",
    "from rdkit import Chem\n",
    "from rdkit.Chem import AllChem"
   ]
  },
  {
   "cell_type": "code",
   "execution_count": 11,
   "metadata": {
    "collapsed": false,
    "ExecuteTime": {
     "end_time": "2023-07-17T17:42:32.450800Z",
     "start_time": "2023-07-17T17:42:32.425Z"
    }
   },
   "outputs": [
    {
     "data": {
      "text/plain": "                                              SMILES  \\\n0                   CN(C)C(=O)Oc1cccc([N+](C)(C)C)c1   \n1    O=C(CCCCC1CCSS1)NCCCNc1c2c(nc3cc(Cl)ccc13)CCCC2   \n2  COc1cc2c(cc1OC)C(=O)C(CC1CCN(CCCNc3c4c(nc5cc(C...   \n3  CNC(=O)Oc1cccc(CN(C)CCCOc2ccc3c(=O)c4ccccc4oc3...   \n4         CCC1=CC2Cc3nc4cc(Cl)ccc4c(N)c3[C@@H](C1)C2   \n\n                                               InChI        chem-id  \\\n0  InChI=1S/C12H19N2O2/c1-13(2)12(15)16-11-8-6-7-...    CHEMBL54126   \n1  InChI=1S/C24H32ClN3OS2/c25-17-10-11-20-22(16-1...   CHEMBL194823   \n2  InChI=1S/C33H40ClN3O3/c1-39-30-18-22-17-23(33(...  CHEMBL3216655   \n3  InChI=1S/C26H26N2O5/c1-27-26(30)32-20-8-5-7-18...   CHEMBL340427   \n4  InChI=1S/C18H19ClN2/c1-2-10-5-11-7-12(6-10)17-...   CHEMBL208599   \n\n             chem-name  single-class-label  \n0  NEOSTIGMINE BROMIDE                   1  \n1            LIPOCRINE                   1  \n2                  NaN                   1  \n3       XANTHOSTIGMINE                   1  \n4            HUPRINE X                   1  ",
      "text/html": "<div>\n<style scoped>\n    .dataframe tbody tr th:only-of-type {\n        vertical-align: middle;\n    }\n\n    .dataframe tbody tr th {\n        vertical-align: top;\n    }\n\n    .dataframe thead th {\n        text-align: right;\n    }\n</style>\n<table border=\"1\" class=\"dataframe\">\n  <thead>\n    <tr style=\"text-align: right;\">\n      <th></th>\n      <th>SMILES</th>\n      <th>InChI</th>\n      <th>chem-id</th>\n      <th>chem-name</th>\n      <th>single-class-label</th>\n    </tr>\n  </thead>\n  <tbody>\n    <tr>\n      <th>0</th>\n      <td>CN(C)C(=O)Oc1cccc([N+](C)(C)C)c1</td>\n      <td>InChI=1S/C12H19N2O2/c1-13(2)12(15)16-11-8-6-7-...</td>\n      <td>CHEMBL54126</td>\n      <td>NEOSTIGMINE BROMIDE</td>\n      <td>1</td>\n    </tr>\n    <tr>\n      <th>1</th>\n      <td>O=C(CCCCC1CCSS1)NCCCNc1c2c(nc3cc(Cl)ccc13)CCCC2</td>\n      <td>InChI=1S/C24H32ClN3OS2/c25-17-10-11-20-22(16-1...</td>\n      <td>CHEMBL194823</td>\n      <td>LIPOCRINE</td>\n      <td>1</td>\n    </tr>\n    <tr>\n      <th>2</th>\n      <td>COc1cc2c(cc1OC)C(=O)C(CC1CCN(CCCNc3c4c(nc5cc(C...</td>\n      <td>InChI=1S/C33H40ClN3O3/c1-39-30-18-22-17-23(33(...</td>\n      <td>CHEMBL3216655</td>\n      <td>NaN</td>\n      <td>1</td>\n    </tr>\n    <tr>\n      <th>3</th>\n      <td>CNC(=O)Oc1cccc(CN(C)CCCOc2ccc3c(=O)c4ccccc4oc3...</td>\n      <td>InChI=1S/C26H26N2O5/c1-27-26(30)32-20-8-5-7-18...</td>\n      <td>CHEMBL340427</td>\n      <td>XANTHOSTIGMINE</td>\n      <td>1</td>\n    </tr>\n    <tr>\n      <th>4</th>\n      <td>CCC1=CC2Cc3nc4cc(Cl)ccc4c(N)c3[C@@H](C1)C2</td>\n      <td>InChI=1S/C18H19ClN2/c1-2-10-5-11-7-12(6-10)17-...</td>\n      <td>CHEMBL208599</td>\n      <td>HUPRINE X</td>\n      <td>1</td>\n    </tr>\n  </tbody>\n</table>\n</div>"
     },
     "execution_count": 11,
     "metadata": {},
     "output_type": "execute_result"
    }
   ],
   "source": [
    "df = pd.read_csv(\n",
    "    \"../../data/Acetylcholinesterase_human_IC50_ChEMBLBindingDB_spliton6_binary_1micromolar.csv\"\n",
    ")\n",
    "df.head()"
   ]
  },
  {
   "cell_type": "code",
   "execution_count": 12,
   "metadata": {
    "collapsed": false,
    "ExecuteTime": {
     "end_time": "2023-07-17T17:42:33.045304Z",
     "start_time": "2023-07-17T17:42:33.043852Z"
    }
   },
   "outputs": [],
   "source": [
    "fplen = 1024\n",
    "\n",
    "\n",
    "def smiles2ecfp(smi):\n",
    "    fpgen = AllChem.GetMorganGenerator(radius=3, fpSize=fplen)\n",
    "    m1 = Chem.MolFromSmiles(smi)\n",
    "    return fpgen.GetFingerprintAsNumPy(m1)\n",
    "\n",
    "\n",
    "df[\"ecfp\"] = df.apply(lambda row: smiles2ecfp(row[\"SMILES\"]), axis=1)"
   ]
  },
  {
   "cell_type": "markdown",
   "metadata": {},
   "source": [
    "### Identifying highly correlated bits"
   ]
  },
  {
   "cell_type": "code",
   "execution_count": 18,
   "outputs": [],
   "source": [
    "cols = [f'ECFP_Bit_{n}' for n in range(1024)]\n",
    "fps = pd.DataFrame(df['ecfp'].tolist(), columns=cols)"
   ],
   "metadata": {
    "collapsed": false,
    "ExecuteTime": {
     "end_time": "2023-07-17T18:40:56.018377Z",
     "start_time": "2023-07-17T18:40:43.952846Z"
    }
   }
  },
  {
   "cell_type": "code",
   "execution_count": 25,
   "metadata": {
    "ExecuteTime": {
     "end_time": "2023-07-17T18:44:34.781087Z",
     "start_time": "2023-07-17T18:44:27.534282Z"
    }
   },
   "outputs": [
    {
     "name": "stdout",
     "output_type": "stream",
     "text": [
      "6\n"
     ]
    }
   ],
   "source": [
    "threshold = 0.8\n",
    "corr = fps.corr(numeric_only=True).abs()\n",
    "high_corr = [\n",
    "    (corr.index[x], corr.columns[y])\n",
    "    for x, y in zip(*(np.where(corr > threshold)))\n",
    "    if x != y and x < y\n",
    "]\n",
    "print(len(high_corr))"
   ]
  }
 ],
 "metadata": {
  "kernelspec": {
   "display_name": "Python 3 (ipykernel)",
   "language": "python",
   "name": "python3"
  },
  "language_info": {
   "codemirror_mode": {
    "name": "ipython",
    "version": 3
   },
   "file_extension": ".py",
   "mimetype": "text/x-python",
   "name": "python",
   "nbconvert_exporter": "python",
   "pygments_lexer": "ipython3",
   "version": "3.11.4"
  },
  "orig_nbformat": 4
 },
 "nbformat": 4,
 "nbformat_minor": 2
}
